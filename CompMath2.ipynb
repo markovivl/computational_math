{
 "cells": [
  {
   "cell_type": "code",
   "execution_count": 52,
   "metadata": {},
   "outputs": [],
   "source": [
    "import numpy as np\n",
    "import functools as f\n",
    "import operator as op"
   ]
  },
  {
   "cell_type": "code",
   "execution_count": 53,
   "metadata": {},
   "outputs": [],
   "source": [
    "X = [0.87267, 1.22173, 1.57080, 1.91986, 2.26893, 2.61799, 2.9670]\n",
    "Y = [0.00082, 0.01039, 0.07037, 0.32762, 1.18669, 3.59003, 9.4835]"
   ]
  },
  {
   "cell_type": "code",
   "execution_count": 54,
   "metadata": {},
   "outputs": [],
   "source": [
    "def L(i):\n",
    "    x_i = X[i]\n",
    "    nom_list = [np.poly1d([1, -x_k]) for x_k in X if x_k != x_i]\n",
    "    nom = f.reduce(op.mul, nom_list)\n",
    "    denom = np.prod([x_i - x_k for x_k in X if x_k != x_i])\n",
    "    return nom/denom"
   ]
  },
  {
   "cell_type": "code",
   "execution_count": 55,
   "metadata": {},
   "outputs": [
    {
     "name": "stdout",
     "output_type": "stream",
     "text": [
      "\n",
      "Коэффициенты интерполяционного многочлена:\n",
      "1.4306E-01  -1.0474E+00  3.5672E+00  -6.7628E+00  7.3184E+00  -4.2198E+00  1.0025E+00\n"
     ]
    }
   ],
   "source": [
    "Ls = [L(i) for i in range(len(X))]\n",
    "P = sum([l*y for l, y in zip(Ls, Y)])\n",
    "print ('\\nКоэффициенты интерполяционного многочлена:')\n",
    "print ('  '.join('{:.4E}'.format(c) for c in P.coef))"
   ]
  },
  {
   "cell_type": "code",
   "execution_count": 56,
   "metadata": {},
   "outputs": [],
   "source": [
    "def a(i):\n",
    "    x = X[i]\n",
    "    x_1 = X[i+1]\n",
    "    y = P(x)\n",
    "    y_1 = P(x_1)\n",
    "    dx = x_1 - x\n",
    "    dy = y_1 - y\n",
    "    P_1 = np.polyder(P)\n",
    "    a_0 = -P_1(x_1) * x**2 * x_1 * dx + y_1 * x**2 * (3*x_1 - x) + y * x_1**2 * (x_1 - 3*x) - P_1(x) * x * x_1**2 * dx\n",
    "    a_1 = P_1(x_1) * x * (2*x_1 + x) * dx - 6*dy * x * x_1 + P_1(x) * x_1 * (x_1 + 2*x) * dx\n",
    "    a_2 = -P_1(x_1) * dx * (x_1 + 2*x) + 3*dy * (x_1 + x) - P_1(x) * dx * (x + 2*x_1)\n",
    "    a_3 = P_1(x_1) * dx - 2*dy + P_1(x) * dx\n",
    "    return [a / dx**3 for a in [a_0, a_1, a_2, a_3]]"
   ]
  },
  {
   "cell_type": "code",
   "execution_count": 57,
   "metadata": {},
   "outputs": [],
   "source": [
    "def S_i(i, x):\n",
    "    return np.poly1d(a(i)[::-1])(x)"
   ]
  },
  {
   "cell_type": "code",
   "execution_count": 58,
   "metadata": {},
   "outputs": [],
   "source": [
    "def S(x):\n",
    "    if x < X[0] or x > X[-1]:\n",
    "        print('Error: Значение не входит в заданный диапазон')\n",
    "        return 0\n",
    "    for i in range(6):\n",
    "            if X[i] <= x <= X[i+1]:\n",
    "                return S_i(i, x)"
   ]
  },
  {
   "cell_type": "code",
   "execution_count": null,
   "metadata": {},
   "outputs": [
    {
     "name": "stdout",
     "output_type": "stream",
     "text": [
      "\n",
      "Таблица значений коэффициентов сплайнов:\n",
      "a_0          a_1          a_2          a_3\n",
      "1.4146E-01  -3.2749E-01  2.1647E-01  -2.9656E-02\n",
      "-8.9528E-01  2.2180E+00  -1.8668E+00  5.3868E-01\n",
      "-4.6519E+00  9.3121E+00  -6.3319E+00  1.4753E+00\n",
      "-1.9430E+01  3.2208E+01  -1.8156E+01  3.5105E+00\n",
      "-6.5350E+01  9.2576E+01  -4.4609E+01  7.3743E+00\n",
      "-1.8198E+02  2.2569E+02  -9.5251E+01  1.3796E+01\n",
      "\n"
     ]
    }
   ],
   "source": [
    "A = [a(i) for i in range(6)]\n",
    "print('\\nТаблица значений коэффициентов сплайнов:')\n",
    "print('a_0', 'a_1', 'a_2', 'a_3', sep = '          ')\n",
    "print('\\n'.join(['  '.join(['{:.4E}'.format(item) for item in row]) for row in A]))\n",
    "print()\n",
    "while True:\n",
    "    x = float(input('x ='))\n",
    "    print('Значение сплайна в заданной точке: {:.4E}'.format(S(x)))\n",
    "    print('Значение интерполяционного многочлена в заданной точке: {:.4E}'.format(P(x)))\n",
    "    "
   ]
  },
  {
   "cell_type": "code",
   "execution_count": null,
   "metadata": {},
   "outputs": [],
   "source": []
  }
 ],
 "metadata": {
  "kernelspec": {
   "display_name": "Python 3",
   "language": "python",
   "name": "python3"
  },
  "language_info": {
   "codemirror_mode": {
    "name": "ipython",
    "version": 3
   },
   "file_extension": ".py",
   "mimetype": "text/x-python",
   "name": "python",
   "nbconvert_exporter": "python",
   "pygments_lexer": "ipython3",
   "version": "3.7.3"
  }
 },
 "nbformat": 4,
 "nbformat_minor": 2
}
