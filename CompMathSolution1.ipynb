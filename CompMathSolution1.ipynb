{
 "cells": [
  {
   "cell_type": "code",
   "execution_count": 26,
   "metadata": {
    "collapsed": true
   },
   "outputs": [],
   "source": [
    "import numpy as np"
   ]
  },
  {
   "cell_type": "markdown",
   "metadata": {},
   "source": [
    "Определяем размерность задачи."
   ]
  },
  {
   "cell_type": "code",
   "execution_count": 27,
   "metadata": {
    "collapsed": true
   },
   "outputs": [],
   "source": [
    "L = 10\n",
    "h = 1/L"
   ]
  },
  {
   "cell_type": "code",
   "execution_count": 28,
   "metadata": {},
   "outputs": [
    {
     "name": "stdout",
     "output_type": "stream",
     "text": [
      "0.1\n"
     ]
    }
   ],
   "source": [
    "print (h)"
   ]
  },
  {
   "cell_type": "code",
   "execution_count": 29,
   "metadata": {
    "collapsed": true
   },
   "outputs": [],
   "source": [
    "l_arr = [i for i in range(0, L+1)]\n",
    "x_arr = [0 + l*h for l in l_arr]"
   ]
  },
  {
   "cell_type": "code",
   "execution_count": 30,
   "metadata": {},
   "outputs": [
    {
     "name": "stdout",
     "output_type": "stream",
     "text": [
      "[0, 1, 2, 3, 4, 5, 6, 7, 8, 9, 10]\n"
     ]
    }
   ],
   "source": [
    "print (l_arr)"
   ]
  },
  {
   "cell_type": "code",
   "execution_count": 31,
   "metadata": {},
   "outputs": [
    {
     "name": "stdout",
     "output_type": "stream",
     "text": [
      "[0.0, 0.1, 0.2, 0.30000000000000004, 0.4, 0.5, 0.6000000000000001, 0.7000000000000001, 0.8, 0.9, 1.0]\n"
     ]
    }
   ],
   "source": [
    "print(x_arr)"
   ]
  },
  {
   "cell_type": "markdown",
   "metadata": {},
   "source": [
    "Определяем функции из условия основной задачи"
   ]
  },
  {
   "cell_type": "code",
   "execution_count": 32,
   "metadata": {
    "collapsed": true
   },
   "outputs": [],
   "source": [
    "k_initial = lambda x: np.power(np.e, -np.sin(2*np.pi*x))\n",
    "#k_initial = lambda x: np.cos(2* np.pi*x)**2 + 1\n",
    "q_initial = lambda x: 1\n",
    "#q_initial = lambda x: np.sin(2*np.pi*x) + 1.5\n",
    "f_initial = lambda x: np.cos(2*np.pi*x)\n",
    "#f_initial = lambda x: np.sin(2*np.pi*x)"
   ]
  },
  {
   "cell_type": "markdown",
   "metadata": {},
   "source": [
    "Определяем функции из условия модельной задачи."
   ]
  },
  {
   "cell_type": "code",
   "execution_count": 33,
   "metadata": {
    "collapsed": true
   },
   "outputs": [],
   "source": [
    "kmod = k_initial(0)\n",
    "qmod = q_initial(0)\n",
    "fmod = lambda x: np.cos(2* np.pi * x) + 1\n",
    "#fmod = lambda x: np.sin(2*np.pi*x)"
   ]
  },
  {
   "cell_type": "markdown",
   "metadata": {},
   "source": [
    "Определяем аналитическое решение нашей задачи."
   ]
  },
  {
   "cell_type": "code",
   "execution_count": 34,
   "metadata": {
    "collapsed": true
   },
   "outputs": [],
   "source": [
    "u_anal = lambda l: 1 + 1/(4* np.pi**2 +1)*f_initial(x_arr[l])"
   ]
  },
  {
   "cell_type": "markdown",
   "metadata": {},
   "source": [
    "Следующие функции верны для обоих систем:"
   ]
  },
  {
   "cell_type": "code",
   "execution_count": 36,
   "metadata": {
    "collapsed": true
   },
   "outputs": [],
   "source": [
    "al = lambda l: kmod\n",
    "bl = lambda l: -2*kmod - qmod*h**2\n",
    "cl = lambda l: kmod"
   ]
  },
  {
   "cell_type": "markdown",
   "metadata": {},
   "source": [
    "## Определяем функцию, реализующую метод прогонки."
   ]
  },
  {
   "cell_type": "code",
   "execution_count": 37,
   "metadata": {
    "collapsed": true
   },
   "outputs": [],
   "source": [
    "def progonka_progonochka(al, bl, cl, dl, a0, b0, d0, bL, cL, dL, L):\n",
    "    alpha = [None]*(L+1)\n",
    "    beta = [None]*(L+1)\n",
    "    u = [None]*(L+1)\n",
    "    alpha[0] = - a0/b0\n",
    "    beta[0] = d0/b0\n",
    "    #прямая прогонка\n",
    "    for l in range(1,L):\n",
    "        alpha[l] = -al(l)/(bl(l) + cl(l)*alpha[l-1] )\n",
    "        beta[l] = (dl(l) - cl(l)*beta[l-1])/(bl(l) + cl(l)*alpha[l-1])\n",
    "    u[L] = (dL - cL*beta[L-1])/(bL + cL*alpha[L-1])    \n",
    "    #обратная прогонка\n",
    "    for l in range(L-1,-1,-1 ):\n",
    "        u[l] = alpha[l]*u[l+1] + beta[l]\n",
    "    return u"
   ]
  },
  {
   "cell_type": "markdown",
   "metadata": {},
   "source": [
    "Решение системы ищем в виде $ u^{(h)} = v^{(h)} + u_0 w^{(h)} $, где  $v^{(h)}  $ и $w^{(h)}$ сеточные функции, а $ u_0 = const$"
   ]
  },
  {
   "cell_type": "markdown",
   "metadata": {},
   "source": [
    "### Решаем первую систему"
   ]
  },
  {
   "cell_type": "code",
   "execution_count": 38,
   "metadata": {
    "collapsed": true
   },
   "outputs": [],
   "source": [
    "dl_1 = lambda l: -h**2 * fmod(x_arr[l])\n",
    "a0_1 = 0\n",
    "b0_1 = 1\n",
    "d0_1= 0\n",
    "bL_1 = 1\n",
    "cL_1 = 0\n",
    "dL_1 = 0\n",
    "v_mod = progonka_progonochka(al, bl, cl, dl_1, a0_1, b0_1, d0_1, bL_1, cL_1, dL_1, L)"
   ]
  },
  {
   "cell_type": "markdown",
   "metadata": {},
   "source": [
    "### Решаем вторую систему"
   ]
  },
  {
   "cell_type": "code",
   "execution_count": 39,
   "metadata": {
    "collapsed": true
   },
   "outputs": [],
   "source": [
    "dl_2 = lambda l: 0\n",
    "a0_2 = 0\n",
    "b0_2 = 1\n",
    "d0_2 = 1\n",
    "bL_2 = 1\n",
    "cL_2 = 0\n",
    "dL_2 = 1\n",
    "w_mod = progonka_progonochka(al, bl, cl, dl_2, a0_2, b0_2, d0_2, bL_2, cL_2, dL_2, L)"
   ]
  },
  {
   "cell_type": "markdown",
   "metadata": {},
   "source": [
    "### Находим $u_0$"
   ]
  },
  {
   "cell_type": "code",
   "execution_count": 40,
   "metadata": {
    "collapsed": true
   },
   "outputs": [],
   "source": [
    "u_0_mod = (kmod*(v_mod[1] + v_mod[L-1]) + fmod(0)*h**2)/(2*kmod + qmod*h**2 - kmod*(w_mod[1] + w_mod[L - 1]))"
   ]
  },
  {
   "cell_type": "markdown",
   "metadata": {},
   "source": [
    "### Записываем решение"
   ]
  },
  {
   "cell_type": "code",
   "execution_count": 41,
   "metadata": {
    "collapsed": true
   },
   "outputs": [],
   "source": [
    "def solution(v, w, u_0, disp = True):\n",
    "    u = np.array(v) + np.array(w)*u_0\n",
    "    if disp:\n",
    "        print(u)\n",
    "    return u\n",
    "    "
   ]
  },
  {
   "cell_type": "code",
   "execution_count": 42,
   "metadata": {},
   "outputs": [
    {
     "name": "stdout",
     "output_type": "stream",
     "text": [
      "[ 1.02551242  1.02063998  1.00788377  0.99211623  0.97936002  0.97448758\n",
      "  0.97936002  0.99211623  1.00788377  1.02063998  1.02551242]\n"
     ]
    }
   ],
   "source": [
    "u_mod = solution(v_mod, w_mod, u_0_mod, disp = True)"
   ]
  },
  {
   "cell_type": "markdown",
   "metadata": {},
   "source": [
    "## Записываем аналитическое решение"
   ]
  },
  {
   "cell_type": "code",
   "execution_count": 43,
   "metadata": {},
   "outputs": [
    {
     "name": "stdout",
     "output_type": "stream",
     "text": [
      "[1.0247045230318577, 1.0199863789707002, 1.0076341174547714, 0.99236588254522873, 0.9800136210292999, 0.97529547696814234, 0.9800136210292999, 0.99236588254522873, 1.0076341174547714, 1.0199863789707002, 1.0247045230318577]\n"
     ]
    }
   ],
   "source": [
    "print ([u_anal(l) for l in l_arr ])"
   ]
  },
  {
   "cell_type": "markdown",
   "metadata": {},
   "source": [
    "## Считаем ошибку на модельной задаче."
   ]
  },
  {
   "cell_type": "code",
   "execution_count": 44,
   "metadata": {},
   "outputs": [
    {
     "name": "stdout",
     "output_type": "stream",
     "text": [
      "0.000807893129174\n"
     ]
    }
   ],
   "source": [
    "print (max([u_anal(l) - u_mod[l] for l in l_arr]))"
   ]
  },
  {
   "cell_type": "markdown",
   "metadata": {},
   "source": [
    "### Определяем функции из условия задачи"
   ]
  },
  {
   "cell_type": "code",
   "execution_count": 45,
   "metadata": {
    "collapsed": true
   },
   "outputs": [],
   "source": [
    "q = lambda l: q_initial(x_arr[0])\n",
    "f = lambda l: f_initial(x_arr[l])"
   ]
  },
  {
   "cell_type": "code",
   "execution_count": 46,
   "metadata": {
    "collapsed": true
   },
   "outputs": [],
   "source": [
    "#def k(l=0,r = True):\n",
    " #   if r :\n",
    "  #      return np.power(np.e, - np.sin(2*np.pi*(x_arr[l] + h/2)))\n",
    "   # else:\n",
    "    #    return np.power(np.e, - np.sin(2*np.pi*(x_arr[l] - h/2)))\n",
    "    "
   ]
  },
  {
   "cell_type": "code",
   "execution_count": 47,
   "metadata": {
    "collapsed": true
   },
   "outputs": [],
   "source": [
    "def k(l = 0, r = True):\n",
    "    if r:\n",
    "        return k_initial(x_arr[l] + h/2)\n",
    "    else:\n",
    "        return k_initial(x_arr[l] - h/2)"
   ]
  },
  {
   "cell_type": "markdown",
   "metadata": {},
   "source": [
    "Вводим обозначения:"
   ]
  },
  {
   "cell_type": "code",
   "execution_count": 48,
   "metadata": {
    "collapsed": true
   },
   "outputs": [],
   "source": [
    "a = lambda l: k(l)\n",
    "b = lambda l: -(k(l) + k(l, r = False) + q(l)*h**2)\n",
    "c = lambda l: k(l, r = False)"
   ]
  },
  {
   "cell_type": "markdown",
   "metadata": {},
   "source": [
    "Снова ищем решение по методу циклической прогонки, т.е в виде суммы решений двух систем с каким-то коэффициентом. Заметим, что решение этих двух систем отличается от решения этих же систем в модельной задаче только функциями a,b,c, и d."
   ]
  },
  {
   "cell_type": "markdown",
   "metadata": {},
   "source": [
    "### Решаем первую систему"
   ]
  },
  {
   "cell_type": "code",
   "execution_count": 49,
   "metadata": {
    "collapsed": true
   },
   "outputs": [],
   "source": [
    "d_1 = lambda l: -f(l)*h**2\n",
    "v = progonka_progonochka(a, b, c, d_1, a0_1, b0_1, d0_1, bL_1, cL_1, dL_1, L)"
   ]
  },
  {
   "cell_type": "markdown",
   "metadata": {},
   "source": [
    "### Решаем вторую систему"
   ]
  },
  {
   "cell_type": "code",
   "execution_count": 50,
   "metadata": {
    "collapsed": true
   },
   "outputs": [],
   "source": [
    "d_2 = lambda x: 0\n",
    "w = progonka_progonochka(a, b, c, d_2, a0_2, b0_2, d0_2, bL_2, cL_2, dL_2, L)"
   ]
  },
  {
   "cell_type": "markdown",
   "metadata": {},
   "source": [
    "### Находим $u_0$"
   ]
  },
  {
   "cell_type": "code",
   "execution_count": 51,
   "metadata": {
    "collapsed": true
   },
   "outputs": [],
   "source": [
    "u_0 = (k(0,1)*v[1]+ k(L,False)*v[L-1] + f(0)*h**2)/(k(0,1) + k(L, False) + q(0)*h**2 - k(0,1)*w[1] - k(L,False)*w[L-1])"
   ]
  },
  {
   "cell_type": "code",
   "execution_count": 52,
   "metadata": {
    "collapsed": true
   },
   "outputs": [],
   "source": [
    "#u_0 = (a(0)*v[1]+ c(L)*v[L-1] + f(0)*h**2)/(a(0) + c(L) + q(0)*h**2 - a(0)*w[1] - c(L)*w[L-1])"
   ]
  },
  {
   "cell_type": "markdown",
   "metadata": {},
   "source": [
    "### Записываем решение"
   ]
  },
  {
   "cell_type": "code",
   "execution_count": 53,
   "metadata": {},
   "outputs": [
    {
     "name": "stdout",
     "output_type": "stream",
     "text": [
      "[ 0.02179366  0.02467852  0.01182096 -0.01182096 -0.02467852 -0.02179366\n",
      " -0.01305704 -0.00421363  0.00421363  0.01305704  0.02179366]\n"
     ]
    }
   ],
   "source": [
    "u = solution(v,w,u_0)"
   ]
  },
  {
   "cell_type": "code",
   "execution_count": null,
   "metadata": {
    "collapsed": true
   },
   "outputs": [],
   "source": []
  },
  {
   "cell_type": "code",
   "execution_count": null,
   "metadata": {
    "collapsed": true
   },
   "outputs": [],
   "source": []
  }
 ],
 "metadata": {
  "kernelspec": {
   "display_name": "Python 3",
   "language": "python",
   "name": "python3"
  },
  "language_info": {
   "codemirror_mode": {
    "name": "ipython",
    "version": 3
   },
   "file_extension": ".py",
   "mimetype": "text/x-python",
   "name": "python",
   "nbconvert_exporter": "python",
   "pygments_lexer": "ipython3",
   "version": "3.7.3"
  }
 },
 "nbformat": 4,
 "nbformat_minor": 2
}
